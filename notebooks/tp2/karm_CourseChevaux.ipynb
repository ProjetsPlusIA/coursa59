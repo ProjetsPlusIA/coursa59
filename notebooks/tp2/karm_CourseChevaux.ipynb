{
 "cells": [
  {
   "cell_type": "markdown",
   "metadata": {},
   "source": [
    "### Karm Bandit - Course de chevaux\n",
    "## Optimisez vos paris en misant sur le meilleur cheval !\n",
    "\n",
    "Fabrice Mulotti 20/01/2022\n"
   ]
  },
  {
   "cell_type": "markdown",
   "metadata": {},
   "source": [
    "![Alt text](static/course.jpg)"
   ]
  },
  {
   "cell_type": "markdown",
   "metadata": {},
   "source": [
    "Imaginons une course de 15 chevaux, assez proches en performances.\n",
    "Nous devons déterminer pour \"The booky\" notre meilleur stratégie pour nos paris.\n"
   ]
  },
  {
   "cell_type": "code",
   "execution_count": null,
   "metadata": {},
   "outputs": [],
   "source": [
    "import numpy as np\n",
    "import matplotlib.pyplot as plt"
   ]
  },
  {
   "cell_type": "code",
   "execution_count": null,
   "metadata": {},
   "outputs": [],
   "source": [
    "class karm():\n",
    "    __version__ = \"1.2\"\n",
    "    def __init__(self,k,seed,epsilon, sigma ,initial_value):\n",
    "        np.random.seed(seed)\n",
    "        # nombre de bras\n",
    "        self.k=k\n",
    "        \n",
    "        # e-greedy\n",
    "        self.epsilon = epsilon\n",
    "\n",
    "        # initialisation des moyennes des k bras\n",
    "        self.mu      = np.random.normal(loc=100,scale=25,size=self.k)\n",
    "        for i in range(self.k):\n",
    "            if self.mu[i] <0 :\n",
    "                self.mu[i]=0\n",
    "        \n",
    "        # ecart type pour chaque bras\n",
    "        self.sigma   = np.full((self.k),sigma)\n",
    "\n",
    "        self.initial_value = initial_value\n",
    "        \n",
    "        # \n",
    "        self.init_tableau()\n",
    "    \n",
    "    def version(self):\n",
    "        #renvoie la version du code\n",
    "        return self.__version__\n",
    "    \n",
    "    def my_argmax(self,my_array):\n",
    "        # notre argmax\n",
    "        my_max=-5.0\n",
    "        my_list_of_max = []\n",
    "        for i in range(0,my_array.shape[0]):\n",
    "            if my_array[i] > my_max:\n",
    "                my_max=my_array[i]\n",
    "                my_list_of_max = [ i ]\n",
    "            else:\n",
    "                if my_array[i] == my_max:\n",
    "                    my_list_of_max.append(i)\n",
    "        return(np.random.choice(my_list_of_max))\n",
    "          \n",
    "    def init_tableau(self):\n",
    "        # comptage du nombre de fois qu'un bras est actionné\n",
    "        self.n=np.zeros((self.k))\n",
    "        # init de la récompense par bras\n",
    "        self.Reward=np.full((self.k),self.initial_value)\n",
    "                    \n",
    "    def show(self):\n",
    "        print(\"k   = \",self.k)\n",
    "        # print(\"mu  = \",self.mu)\n",
    "        # print(\"sig = \",self.sigma)\n",
    "        print(\"n   = \",self.n)\n",
    "        print(\"R   = \",self.Reward)\n",
    "     \n",
    "    def max_reward(self):\n",
    "        return(np.max(self.mu))\n",
    "    \n",
    "    def env(self,arm):\n",
    "        # renvoie la récompense en fonction du bras actionné\n",
    "        q=np.random.normal(self.mu[arm],self.sigma[arm])\n",
    "        if (q < 0 ):\n",
    "                q=0\n",
    "        # self.Reward[arm]=(self.Reward[arm]*self.n[arm]+q)/(self.n[arm]+1)\n",
    "        Reward_n = self.Reward[arm]\n",
    "        self.n[arm]=self.n[arm]+1\n",
    "\n",
    "        self.Reward[arm] = Reward_n + 1/self.n[arm] * (q - Reward_n)\n",
    "        return(q)\n",
    "    \n",
    "    def action(self,t):\n",
    "        arm=self.my_argmax(self.Reward)\n",
    "\n",
    "        return(arm)\n",
    "    \n",
    "    def simulation(self,ntry,nsample):\n",
    "        result=np.zeros((ntry,nsample))\n",
    "        for i in range(ntry):\n",
    "            self.init_tableau()\n",
    "            for j in range(nsample):\n",
    "                action=self.action(j)\n",
    "                q=self.env(action)\n",
    "                result[i,j]=q\n",
    "        rmean = np.mean(result,axis=0)\n",
    "        perte = self.max_reward() - rmean\n",
    "        cumul_perte = np.cumsum(perte)\n",
    "        cumul_reward = np.cumsum(rmean)\n",
    "        return(rmean,cumul_perte)"
   ]
  },
  {
   "cell_type": "code",
   "execution_count": null,
   "metadata": {},
   "outputs": [],
   "source": [
    "# Paramètres fixes !\n",
    "k=15\n",
    "seed=150\n",
    "sigma = 100\n",
    "\n",
    "# Paramètre que vous pouvez modifier !\n",
    "epsilon = 0.01\n",
    "initial_value =  250.0\n",
    "dummy=karm(k,seed,epsilon, sigma, initial_value )\n",
    "dummy.show()"
   ]
  },
  {
   "cell_type": "markdown",
   "metadata": {},
   "source": [
    "![Alt text](static/frankie.jpg)"
   ]
  },
  {
   "cell_type": "code",
   "execution_count": null,
   "metadata": {
    "tags": []
   },
   "outputs": [],
   "source": [
    "recompense_moyenne , cumul_regret = dummy.simulation(400,400)\n",
    "# rm_test,cumul_regret_test = dummy.simulation(1,20)\n",
    "print(\"Cumul des récompenses : \",np.round(np.sum(recompense_moyenne),0),\"$ vs initial 59847$\")\n",
    "print(\"Cumul des regret      : \",np.round(np.sum(cumul_regret[-1]),0),\"$ vs initial 7082$\")\n",
    "dummy.show()"
   ]
  },
  {
   "cell_type": "markdown",
   "metadata": {},
   "source": [
    "## Résultats "
   ]
  },
  {
   "cell_type": "code",
   "execution_count": null,
   "metadata": {},
   "outputs": [],
   "source": [
    "# A exécuter seulement à la première exécution pour garder une baseline\n",
    "recompense_moyenne_initiale = recompense_moyenne\n",
    "regret_initial = cumul_regret"
   ]
  },
  {
   "cell_type": "code",
   "execution_count": null,
   "metadata": {},
   "outputs": [],
   "source": [
    "plt.figure()\n",
    "\n",
    "plt.plot(recompense_moyenne_initiale,color='red')\n",
    "\n",
    "plt.plot(recompense_moyenne,color='blue')\n",
    "\n",
    "plt.show()"
   ]
  },
  {
   "cell_type": "code",
   "execution_count": null,
   "metadata": {},
   "outputs": [],
   "source": [
    "plt.figure()\n",
    "plt.plot(regret_initial,color = 'red')\n",
    "plt.plot(cumul_regret,color='blue')\n",
    "\n",
    "\n",
    "plt.show()"
   ]
  },
  {
   "cell_type": "code",
   "execution_count": null,
   "metadata": {},
   "outputs": [],
   "source": []
  }
 ],
 "metadata": {
  "kernelspec": {
   "display_name": "Python 3",
   "language": "python",
   "name": "python3"
  },
  "language_info": {
   "codemirror_mode": {
    "name": "ipython",
    "version": 3
   },
   "file_extension": ".py",
   "mimetype": "text/x-python",
   "name": "python",
   "nbconvert_exporter": "python",
   "pygments_lexer": "ipython3",
   "version": "3.8.7"
  }
 },
 "nbformat": 4,
 "nbformat_minor": 4
}
