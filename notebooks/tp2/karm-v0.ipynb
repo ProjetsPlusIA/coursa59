{
 "cells": [
  {
   "cell_type": "markdown",
   "metadata": {},
   "source": [
    "# Problème Karm Bandit\n",
    "### Cours A59 : renforcement par apprentissage\n",
    "### F. Mulotti"
   ]
  },
  {
   "cell_type": "code",
   "execution_count": 2,
   "metadata": {},
   "outputs": [],
   "source": [
    "import numpy as np\n",
    "import matplotlib.pyplot as plt"
   ]
  },
  {
   "cell_type": "code",
   "execution_count": 3,
   "metadata": {},
   "outputs": [],
   "source": [
    "class karm():\n",
    "    __version__ = \"1.1\"\n",
    "    def __init__(self,k,seed,epsilon, sigma ,initial_value):\n",
    "        np.random.seed(seed)\n",
    "        # nombre de bras\n",
    "        self.k=k\n",
    "        \n",
    "        # e-greedy\n",
    "        self.epsilon = epsilon\n",
    "\n",
    "        # initialisation des moyennes des k bras\n",
    "        self.mu      = np.random.normal(size=self.k)\n",
    "        \n",
    "        # ecart type pour chaque bras\n",
    "        self.sigma   = np.full((self.k),sigma)\n",
    "\n",
    "        self.initial_value = initial_value\n",
    "        \n",
    "        # Initialisation \n",
    "        self.init_tableau()\n",
    "    \n",
    "    def version(self):\n",
    "        #renvoie la version du code\n",
    "        return self.__version__\n",
    "    \n",
    "    \n",
    "    def init_tableau(self):\n",
    "        # comptage du nombre de fois qu'un bras est actionné\n",
    "        self.n=np.zeros((self.k))\n",
    "        # init de la récompense par bras\n",
    "        self.Reward=np.full((self.k),self.initial_value)\n",
    "                    \n",
    "    def show(self):\n",
    "        print(\"k   = \",self.k)\n",
    "        print(\"mu  = \",self.mu)\n",
    "        print(\"sig = \",self.sigma)\n",
    "        print(\"n   = \",self.n)\n",
    "        print(\"R   = \",self.Reward)\n",
    "  \n",
    "    def env(self,arm):\n",
    "        # renvoie la récompense en fonction du bras actionné\n",
    "        # Tirage aléatoire selon une loi normal centré sur la moyenne du bras\n",
    "        ## A compléter\n",
    "        return(0)\n",
    "    \n",
    "    def action(self):\n",
    "        # selectionne un bras\n",
    "        \n",
    "        ## A compléter \n",
    "        return(0)\n",
    "       \n",
    "    \n",
    "    def simulation(self,ntry,nsample):\n",
    "        ## A compléter\n",
    "        # initialiser un tableau pour les résultats\n",
    "        # Pour chaque essai\n",
    "        #    pour chaque tirage\n",
    "        #         sélectionner une action\n",
    "        #         calculer la récompense\n",
    "        #         mettre à jour le tableau\n",
    "        # renvoyer la moyenne des tirages pour les essais (exemple moyenne de tous les essais 0 \n",
    "        # renvoyer le regret moyenne précédente - valeur optimum\n",
    "        \n",
    "        return(0,0)\n",
    " \n",
    " "
   ]
  },
  {
   "cell_type": "code",
   "execution_count": 4,
   "metadata": {},
   "outputs": [
    {
     "name": "stdout",
     "output_type": "stream",
     "text": [
      "k   =  10\n",
      "mu  =  [-0.31232848  0.33928471 -0.15590853 -0.50178967  0.23556889 -1.76360526\n",
      " -1.09586204 -1.08776574 -0.30517005 -0.47374837]\n",
      "sig =  [0.25 0.25 0.25 0.25 0.25 0.25 0.25 0.25 0.25 0.25]\n",
      "n   =  [0. 0. 0. 0. 0. 0. 0. 0. 0. 0.]\n",
      "R   =  [5. 5. 5. 5. 5. 5. 5. 5. 5. 5.]\n"
     ]
    }
   ],
   "source": [
    "k=10\n",
    "seed=15\n",
    "epsilon = 0.01\n",
    "sigma = 0.25\n",
    "initial_value =  5.0\n",
    "dummy=karm(k,seed,epsilon, sigma, initial_value )\n",
    "dummy.show()"
   ]
  },
  {
   "cell_type": "code",
   "execution_count": null,
   "metadata": {},
   "outputs": [],
   "source": []
  }
 ],
 "metadata": {
  "kernelspec": {
   "display_name": "Python 3 (ipykernel)",
   "language": "python",
   "name": "python3"
  },
  "language_info": {
   "codemirror_mode": {
    "name": "ipython",
    "version": 3
   },
   "file_extension": ".py",
   "mimetype": "text/x-python",
   "name": "python",
   "nbconvert_exporter": "python",
   "pygments_lexer": "ipython3",
   "version": "3.9.2"
  }
 },
 "nbformat": 4,
 "nbformat_minor": 4
}
