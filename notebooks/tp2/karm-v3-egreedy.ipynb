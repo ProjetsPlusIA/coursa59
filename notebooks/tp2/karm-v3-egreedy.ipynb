{
 "cells": [
  {
   "cell_type": "markdown",
   "metadata": {},
   "source": [
    "# Problème Karm Bandit\n",
    "### Cours A59 : renforcement par apprentissage\n",
    "### F. Mulotti"
   ]
  },
  {
   "cell_type": "code",
   "execution_count": 1,
   "metadata": {},
   "outputs": [],
   "source": [
    "import numpy as np\n",
    "import matplotlib.pyplot as plt"
   ]
  },
  {
   "cell_type": "code",
   "execution_count": 2,
   "metadata": {},
   "outputs": [],
   "source": [
    "class karm():\n",
    "    __version__ = \"1.1\"\n",
    "    def __init__(self,k,seed,epsilon, sigma ,initial_value):\n",
    "        np.random.seed(seed)\n",
    "        # nombre de bras\n",
    "        self.k=k\n",
    "        \n",
    "        # e-greedy\n",
    "        self.epsilon = epsilon\n",
    "\n",
    "        # initialisation des moyennes des k bras\n",
    "        self.mu      = np.random.normal(size=self.k)\n",
    "        \n",
    "        # ecart type pour chaque bras\n",
    "        self.sigma   = np.full((self.k),sigma)\n",
    "\n",
    "        self.initial_value = initial_value\n",
    "        \n",
    "        # Initialisation \n",
    "        self.init_tableau()\n",
    "    \n",
    "    def version(self):\n",
    "        #renvoie la version du code\n",
    "        return self.__version__\n",
    "    \n",
    "    \n",
    "    def init_tableau(self):\n",
    "        # comptage du nombre de fois qu'un bras est actionné\n",
    "        self.n=np.zeros((self.k))\n",
    "        # init de la récompense par bras\n",
    "        self.Reward=np.full((self.k),self.initial_value)\n",
    "                    \n",
    "    def show(self):\n",
    "        print(\"k   = \",self.k)\n",
    "        print(\"mu  = \",self.mu)\n",
    "        print(\"sig = \",self.sigma)\n",
    "        print(\"n   = \",self.n)\n",
    "        print(\"R   = \",self.Reward)\n",
    " \n",
    "    def max_reward(self):\n",
    "        return(np.max(self.mu))\n",
    "    \n",
    "    def env(self,arm):\n",
    "        # renvoie la récompense en fonction du bras actionné\n",
    "        q=np.random.normal(self.mu[arm],self.sigma[arm])\n",
    "            \n",
    "        # met à jour les tableaux de suivi\n",
    "        self.n[arm]=self.n[arm]+1\n",
    "        Reward_n = self.Reward[arm]\n",
    "        self.Reward[arm] = Reward_n + 1/self.n[arm] * (q - Reward_n)\n",
    "        return(q)\n",
    "    \n",
    "    def action(self):\n",
    "        # selectionne un bras\n",
    "        # greedy espilon\n",
    "        a = np.random.uniform()\n",
    "        if (a <= self.epsilon):\n",
    "                arm=np.random.randint(0,k)\n",
    "        else: \n",
    "                arm=np.argmax(self.Reward)\n",
    "        return(arm)\n",
    "    \n",
    "    \n",
    "    def simulation(self,ntry,nsample):\n",
    "        result=np.zeros((ntry,nsample))\n",
    "        for i in range(ntry):\n",
    "            self.init_tableau()\n",
    "            for j in range(nsample):\n",
    "                # sélectionne une action\n",
    "                action=self.action()\n",
    "                # détermine la récompense\n",
    "                q=self.env(action)\n",
    "                result[i,j]=q\n",
    "                # print(np.round(q,4),self.Reward)\n",
    "                \n",
    "        # moyenne des récompenses pour n\n",
    "        rmean = np.mean(result,axis=0)\n",
    "        \n",
    "        # calcul du regret\n",
    "        perte = self.max_reward() - rmean\n",
    "        return(rmean,perte)\n",
    " "
   ]
  },
  {
   "cell_type": "code",
   "execution_count": 3,
   "metadata": {},
   "outputs": [
    {
     "name": "stdout",
     "output_type": "stream",
     "text": [
      "k   =  10\n",
      "mu  =  [-0.23138325  0.39061323  0.35829747  0.56624448  0.16623399  1.91341213\n",
      "  0.30290274 -0.83082631 -0.06014233 -0.09429414]\n",
      "sig =  [0.25 0.25 0.25 0.25 0.25 0.25 0.25 0.25 0.25 0.25]\n",
      "n   =  [0. 0. 0. 0. 0. 0. 0. 0. 0. 0.]\n",
      "R   =  [5. 5. 5. 5. 5. 5. 5. 5. 5. 5.]\n"
     ]
    }
   ],
   "source": [
    "k=10\n",
    "seed=150\n",
    "epsilon = 0.10\n",
    "sigma = 0.25\n",
    "initial_value =  5.0\n",
    "dummy=karm(k,seed,epsilon, sigma, initial_value )\n",
    "dummy.show()"
   ]
  },
  {
   "cell_type": "code",
   "execution_count": 4,
   "metadata": {},
   "outputs": [
    {
     "name": "stdout",
     "output_type": "stream",
     "text": [
      "k   =  10\n",
      "mu  =  [-0.23138325  0.39061323  0.35829747  0.56624448  0.16623399  1.91341213\n",
      "  0.30290274 -0.83082631 -0.06014233 -0.09429414]\n",
      "sig =  [0.25 0.25 0.25 0.25 0.25 0.25 0.25 0.25 0.25 0.25]\n",
      "n   =  [  5.   3.   5.   3.   6. 457.   4.   7.   7.   3.]\n",
      "R   =  [-0.20558661  0.44207562  0.52329533  0.69627645  0.13831768  1.88265308\n",
      "  0.31556244 -0.92132187 -0.01643766  0.04020915]\n"
     ]
    }
   ],
   "source": [
    "n_episode=400\n",
    "n_test = 500\n",
    "Ggreedy, regret = dummy.simulation(n_episode,n_test)\n",
    "dummy.show()"
   ]
  },
  {
   "cell_type": "code",
   "execution_count": 5,
   "metadata": {},
   "outputs": [
    {
     "name": "stdout",
     "output_type": "stream",
     "text": [
      "Cumul récompenses :  858.5318706751052\n",
      "Cumul Regret      :  98.17419277119939\n"
     ]
    },
    {
     "data": {
      "text/plain": [
       "<Figure size 432x288 with 0 Axes>"
      ]
     },
     "execution_count": 5,
     "metadata": {},
     "output_type": "execute_result"
    },
    {
     "data": {
      "image/png": "[encoded data removed]",
      "text/plain": [
       "<Figure size 432x288 with 1 Axes>"
      ]
     },
     "metadata": {
      "needs_background": "light"
     },
     "output_type": "display_data"
    },
    {
     "data": {
      "text/plain": [
       "<Figure size 432x288 with 0 Axes>"
      ]
     },
     "metadata": {},
     "output_type": "display_data"
    }
   ],
   "source": [
    "print(\"Cumul récompenses : \", np.sum(Ggreedy))\n",
    "print(\"Cumul Regret      : \", np.sum(regret))\n",
    "\n",
    "plt.figure()\n",
    "plt.plot(Ggreedy[0:100])\n",
    "plt.figure()"
   ]
  },
  {
   "cell_type": "code",
   "execution_count": 4,
   "metadata": {},
   "outputs": [
    {
     "data": {
      "text/plain": [
       "0.09257848674165847"
      ]
     },
     "execution_count": 4,
     "metadata": {},
     "output_type": "execute_result"
    }
   ],
   "source": [
    "np.random.uniform()"
   ]
  },
  {
   "cell_type": "code",
   "execution_count": null,
   "metadata": {},
   "outputs": [],
   "source": []
  }
 ],
 "metadata": {
  "kernelspec": {
   "display_name": "Python 3 (ipykernel)",
   "language": "python",
   "name": "python3"
  },
  "language_info": {
   "codemirror_mode": {
    "name": "ipython",
    "version": 3
   },
   "file_extension": ".py",
   "mimetype": "text/x-python",
   "name": "python",
   "nbconvert_exporter": "python",
   "pygments_lexer": "ipython3",
   "version": "3.9.2"
  }
 },
 "nbformat": 4,
 "nbformat_minor": 4
}
