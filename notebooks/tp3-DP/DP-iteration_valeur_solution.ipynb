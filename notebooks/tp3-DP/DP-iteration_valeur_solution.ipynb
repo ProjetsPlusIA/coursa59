{
 "cells": [
  {
   "cell_type": "markdown",
   "id": "north-culture",
   "metadata": {},
   "source": [
    "# Cours Programmation Dynamique\n",
    "### Source     :\n",
    "### Adaptation : Fabrice Mulotti\n",
    "v1.0"
   ]
  },
  {
   "cell_type": "code",
   "execution_count": 1,
   "id": "controlling-princeton",
   "metadata": {},
   "outputs": [],
   "source": [
    "import gym\n",
    "import numpy as np\n",
    "import sys\n",
    "%matplotlib inline\n",
    "import matplotlib.pyplot as plt\n",
    "\n",
    "if \"../\" not in sys.path:\n",
    "  sys.path.append(\"../\") \n",
    "\n",
    "from lib.envs.windy_gridworld import WindyGridworldEnv\n",
    "\n",
    "# Disable jedi autocompleter\n",
    "%config Completer.use_jedi = False\n",
    "# %matplotlib inline\n",
    "# %matplotlib widget"
   ]
  },
  {
   "cell_type": "markdown",
   "id": "colonial-community",
   "metadata": {},
   "source": [
    "### Déclaration env"
   ]
  },
  {
   "cell_type": "code",
   "execution_count": 2,
   "id": "tender-regression",
   "metadata": {},
   "outputs": [],
   "source": [
    "env = gym.make('FrozenLake8x8-v1',is_slippery = True)\n",
    "# env = gym.make('FrozenLake-v1',is_slippery=False)\n"
   ]
  },
  {
   "cell_type": "code",
   "execution_count": 4,
   "id": "discrete-guidance",
   "metadata": {},
   "outputs": [
    {
     "name": "stdout",
     "output_type": "stream",
     "text": [
      "\n",
      "\u001b[41mS\u001b[0mFFFFFFF\n",
      "FFFFFFFF\n",
      "FFFHFFFF\n",
      "FFFFFHFF\n",
      "FFFHFFFF\n",
      "FHHFFFHF\n",
      "FHFFHFHF\n",
      "FFFHFFFG\n"
     ]
    }
   ],
   "source": [
    "env.render()"
   ]
  },
  {
   "cell_type": "markdown",
   "id": "damaged-hopkins",
   "metadata": {},
   "source": [
    "### Quelques caractéristiques de notre env"
   ]
  },
  {
   "cell_type": "code",
   "execution_count": 5,
   "id": "valued-woman",
   "metadata": {},
   "outputs": [
    {
     "data": {
      "text/plain": [
       "64"
      ]
     },
     "execution_count": 5,
     "metadata": {},
     "output_type": "execute_result"
    }
   ],
   "source": [
    "env.observation_space.n"
   ]
  },
  {
   "cell_type": "code",
   "execution_count": 6,
   "id": "native-anatomy",
   "metadata": {},
   "outputs": [
    {
     "data": {
      "text/plain": [
       "4"
      ]
     },
     "execution_count": 6,
     "metadata": {},
     "output_type": "execute_result"
    }
   ],
   "source": [
    "env.action_space.n"
   ]
  },
  {
   "cell_type": "markdown",
   "id": "distant-brave",
   "metadata": {},
   "source": [
    "env.P[s] nous permet de déterminer en fonction de l'état s et de l'action a:\n",
    "prob , s' , r , final ?"
   ]
  },
  {
   "cell_type": "code",
   "execution_count": 7,
   "id": "proved-house",
   "metadata": {},
   "outputs": [
    {
     "data": {
      "text/plain": [
       "{0: [(0.3333333333333333, 0, 0.0, False),\n",
       "  (0.3333333333333333, 0, 0.0, False),\n",
       "  (0.3333333333333333, 8, 0.0, False)],\n",
       " 1: [(0.3333333333333333, 0, 0.0, False),\n",
       "  (0.3333333333333333, 8, 0.0, False),\n",
       "  (0.3333333333333333, 1, 0.0, False)],\n",
       " 2: [(0.3333333333333333, 8, 0.0, False),\n",
       "  (0.3333333333333333, 1, 0.0, False),\n",
       "  (0.3333333333333333, 0, 0.0, False)],\n",
       " 3: [(0.3333333333333333, 1, 0.0, False),\n",
       "  (0.3333333333333333, 0, 0.0, False),\n",
       "  (0.3333333333333333, 0, 0.0, False)]}"
      ]
     },
     "execution_count": 7,
     "metadata": {},
     "output_type": "execute_result"
    }
   ],
   "source": [
    "env.P[0]"
   ]
  },
  {
   "cell_type": "markdown",
   "id": "quiet-narrative",
   "metadata": {},
   "source": [
    "-> Exemple pour l'état 0 et l'action 0 et le premier état s' dans la liste"
   ]
  },
  {
   "cell_type": "code",
   "execution_count": 8,
   "id": "brazilian-hometown",
   "metadata": {},
   "outputs": [
    {
     "data": {
      "text/plain": [
       "(0.3333333333333333, 0, 0.0, False)"
      ]
     },
     "execution_count": 8,
     "metadata": {},
     "output_type": "execute_result"
    }
   ],
   "source": [
    "env.P[0][0][0]"
   ]
  },
  {
   "cell_type": "markdown",
   "id": "functioning-paper",
   "metadata": {},
   "source": [
    "![title](static/value_iteration.png)"
   ]
  },
  {
   "cell_type": "code",
   "execution_count": 9,
   "id": "lesser-brain",
   "metadata": {},
   "outputs": [],
   "source": [
    "# Recherche de v*\n",
    "def value_iteration(env,theta,max_iter,gamma):\n",
    "    fig = plt.figure()\n",
    "    ax = fig.add_subplot(111)\n",
    "    deltaT = []\n",
    "\n",
    "    fvalue=np.full(env.observation_space.n,0.0)\n",
    "    for k in range(max_iter):\n",
    "        save_fvalue=np.copy(fvalue)\n",
    "        for s in range(env.observation_space.n):  \n",
    "            max_Qa = -100\n",
    "            for a in range(env.action_space.n):\n",
    "                q=0\n",
    "                for p,s_,r,done in env.P[s][a]:\n",
    "                    q = q + p * (r + gamma * save_fvalue[s_])\n",
    "                    # print(\"s=\",s,\" a=\",a,\" s_=\",s_,\"q = \",q,\"[\",p,r,\"]\")\n",
    "                max_Qa=max(max_Qa,q)\n",
    "                # print(max_Qa,q)\n",
    "                # print(p,s,s_,a,r,max_Qa)\n",
    "\n",
    "            fvalue[s] = max_Qa\n",
    "        # print(fvalue.reshape(4,4))\n",
    "        delta=np.sum(np.fabs(save_fvalue - fvalue))\n",
    "        deltaT.append(delta)\n",
    "        \n",
    "        if int(k/100)==k/100:\n",
    "            ax.plot(deltaT)\n",
    "            fig.canvas.draw()\n",
    "\n",
    "        if (delta <= theta):\n",
    "            break\n",
    "    return(k,fvalue)\n"
   ]
  },
  {
   "cell_type": "code",
   "execution_count": 10,
   "id": "proof-industry",
   "metadata": {},
   "outputs": [
    {
     "name": "stdout",
     "output_type": "stream",
     "text": [
      "172  itérations\n"
     ]
    },
    {
     "data": {
      "image/png": "[encoded data removed]",
      "text/plain": [
       "<Figure size 432x288 with 1 Axes>"
      ]
     },
     "metadata": {
      "needs_background": "light"
     },
     "output_type": "display_data"
    }
   ],
   "source": [
    "plt.ion()\n",
    "k,fv=value_iteration(env=env,theta=1e-20,max_iter=10000,gamma=0.8)\n",
    "print(k,\" itérations\")"
   ]
  },
  {
   "cell_type": "code",
   "execution_count": 11,
   "id": "tested-moses",
   "metadata": {},
   "outputs": [
    {
     "data": {
      "text/plain": [
       "array([2.23748318e-04, 3.91559557e-04, 7.35848269e-04, 1.38030588e-03,\n",
       "       2.47307501e-03, 3.86416591e-03, 5.54943548e-03, 6.54514355e-03,\n",
       "       2.05341393e-04, 3.40940513e-04, 6.43276858e-04, 1.32276616e-03,\n",
       "       2.93679037e-03, 5.07702076e-03, 8.71580401e-03, 1.14540012e-02,\n",
       "       1.63284328e-04, 2.43690510e-04, 3.53673785e-04, 0.00000000e+00,\n",
       "       3.46286813e-03, 6.45885793e-03, 1.56808284e-02, 2.27826993e-02,\n",
       "       1.39094343e-04, 2.19225114e-04, 4.39309325e-04, 1.07451107e-03,\n",
       "       3.59010719e-03, 0.00000000e+00, 2.73046030e-02, 4.69715948e-02,\n",
       "       9.56836788e-05, 1.24035774e-04, 1.50225360e-04, 0.00000000e+00,\n",
       "       8.92552275e-03, 1.98525068e-02, 3.97398380e-02, 1.01867283e-01,\n",
       "       4.45215055e-05, 0.00000000e+00, 0.00000000e+00, 2.89829874e-03,\n",
       "       1.00280963e-02, 2.57815397e-02, 0.00000000e+00, 2.33163433e-01,\n",
       "       2.67504613e-05, 0.00000000e+00, 2.53666017e-04, 8.40523934e-04,\n",
       "       0.00000000e+00, 6.68001709e-02, 0.00000000e+00, 5.39332157e-01,\n",
       "       2.90422631e-05, 5.08239604e-05, 1.10723628e-04, 0.00000000e+00,\n",
       "       8.17160368e-02, 2.24719101e-01, 5.36261491e-01, 0.00000000e+00])"
      ]
     },
     "execution_count": 11,
     "metadata": {},
     "output_type": "execute_result"
    }
   ],
   "source": [
    "fv"
   ]
  },
  {
   "cell_type": "code",
   "execution_count": 12,
   "id": "right-knight",
   "metadata": {},
   "outputs": [],
   "source": [
    "# Détermination de la meilleur politique pi*\n",
    "def best_policy(env,fvalue,gamma):\n",
    "    policy=np.zeros(env.observation_space.n)\n",
    "    for s in range(env.observation_space.n):\n",
    "        Q = []\n",
    "        for a in range(env.action_space.n):\n",
    "            q=0\n",
    "            for p,s_,r,done in env.P[s][a]:\n",
    "                q = q + p * (r + gamma * fvalue[s_])\n",
    "            Q.append(q)\n",
    "        # print(Q,np.argmax(np.array(Q)))\n",
    "        policy[s]=np.argmax(Q)\n",
    "    return(policy)"
   ]
  },
  {
   "cell_type": "code",
   "execution_count": 13,
   "id": "prospective-letter",
   "metadata": {},
   "outputs": [],
   "source": [
    "policy=best_policy(env,fv,1)"
   ]
  },
  {
   "cell_type": "code",
   "execution_count": 59,
   "id": "detailed-douglas",
   "metadata": {},
   "outputs": [],
   "source": [
    "np.save(\"iteration_valeur_best_policy\",policy)"
   ]
  },
  {
   "cell_type": "markdown",
   "id": "institutional-livestock",
   "metadata": {},
   "source": [
    "# Testons l'environnement\n",
    "\n",
    "0: LEFT <br>\n",
    "1: DOWN<br>\n",
    "2: RIGHT<br>\n",
    "3: UP<br>"
   ]
  },
  {
   "cell_type": "code",
   "execution_count": 14,
   "id": "biological-accommodation",
   "metadata": {},
   "outputs": [
    {
     "name": "stdout",
     "output_type": "stream",
     "text": [
      "\n",
      "\u001b[41mS\u001b[0mFFFFFFF\n",
      "FFFFFFFF\n",
      "FFFHFFFF\n",
      "FFFFFHFF\n",
      "FFFHFFFF\n",
      "FHHFFFHF\n",
      "FHFFHFHF\n",
      "FFFHFFFG\n",
      "[3. 2. 2. 2. 2. 2. 2. 2. 3. 2. 2. 3. 2. 2. 2. 1. 3. 2. 0. 0. 2. 3. 2. 1.\n",
      " 3. 3. 3. 1. 0. 0. 2. 1. 3. 3. 0. 0. 2. 1. 3. 2. 0. 0. 0. 1. 3. 0. 0. 2.\n",
      " 0. 0. 1. 0. 0. 0. 0. 2. 1. 1. 0. 0. 1. 1. 1. 0.]\n",
      "Start\n",
      "Done  (63, 1.0, True, {'prob': 0.3333333333333333})\n"
     ]
    }
   ],
   "source": [
    "curpos=env.reset()\n",
    "env.render()\n",
    "print(policy)\n",
    "done=False\n",
    "print(\"Start\")\n",
    "while done == False:\n",
    "    back=env.step(int(policy[curpos]))\n",
    "    # print(\"Curpos \",curpos,\", Policy \",policy[curpos],back)\n",
    "    curpos=back[0]\n",
    "    done=back[2]\n",
    "    # env.render()\n",
    "    # time.sleep(1)\n",
    "print(\"Done \",back)"
   ]
  },
  {
   "cell_type": "code",
   "execution_count": null,
   "id": "italic-ridge",
   "metadata": {},
   "outputs": [],
   "source": []
  }
 ],
 "metadata": {
  "kernelspec": {
   "display_name": "RL pour cours",
   "language": "python",
   "name": "rl"
  },
  "language_info": {
   "codemirror_mode": {
    "name": "ipython",
    "version": 3
   },
   "file_extension": ".py",
   "mimetype": "text/x-python",
   "name": "python",
   "nbconvert_exporter": "python",
   "pygments_lexer": "ipython3",
   "version": "3.9.2"
  }
 },
 "nbformat": 4,
 "nbformat_minor": 5
}
