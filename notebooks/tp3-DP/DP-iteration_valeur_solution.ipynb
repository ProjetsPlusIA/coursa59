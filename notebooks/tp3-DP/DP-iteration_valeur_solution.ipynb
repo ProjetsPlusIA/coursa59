{
 "cells": [
  {
   "cell_type": "markdown",
   "id": "suitable-small",
   "metadata": {},
   "source": [
    "# Cours Programmation Dynamique\n",
    "### Source     :\n",
    "### Adaptation : Fabrice Mulotti\n",
    "v1.0"
   ]
  },
  {
   "cell_type": "code",
   "execution_count": 69,
   "id": "fabulous-stone",
   "metadata": {},
   "outputs": [],
   "source": [
    "import gym\n",
    "import numpy as np\n",
    "import sys\n",
    "%matplotlib inline\n",
    "import matplotlib.pyplot as plt\n",
    "\n",
    "if \"../\" not in sys.path:\n",
    "  sys.path.append(\"../\") \n",
    "\n",
    "from lib.envs.windy_gridworld import WindyGridworldEnv\n",
    "\n",
    "# Disable jedi autocompleter\n",
    "%config Completer.use_jedi = False\n",
    "# %matplotlib inline\n",
    "# %matplotlib widget"
   ]
  },
  {
   "cell_type": "markdown",
   "id": "lasting-primary",
   "metadata": {},
   "source": [
    "### Déclaration env"
   ]
  },
  {
   "cell_type": "code",
   "execution_count": 96,
   "id": "vertical-blend",
   "metadata": {},
   "outputs": [],
   "source": [
    "env = gym.make('FrozenLake8x8-v1',is_slippery = False)\n",
    "# env = gym.make('FrozenLake-v1',is_slippery=False)\n"
   ]
  },
  {
   "cell_type": "code",
   "execution_count": 97,
   "id": "exceptional-brooklyn",
   "metadata": {},
   "outputs": [
    {
     "name": "stdout",
     "output_type": "stream",
     "text": [
      "\n",
      "\u001b[41mS\u001b[0mFFFFFFF\n",
      "FFFFFFFF\n",
      "FFFHFFFF\n",
      "FFFFFHFF\n",
      "FFFHFFFF\n",
      "FHHFFFHF\n",
      "FHFFHFHF\n",
      "FFFHFFFG\n"
     ]
    }
   ],
   "source": [
    "env.render()"
   ]
  },
  {
   "cell_type": "markdown",
   "id": "polished-sydney",
   "metadata": {},
   "source": [
    "### Quelques caractéristiques de notre env"
   ]
  },
  {
   "cell_type": "code",
   "execution_count": 98,
   "id": "graphic-familiar",
   "metadata": {},
   "outputs": [
    {
     "data": {
      "text/plain": [
       "64"
      ]
     },
     "execution_count": 98,
     "metadata": {},
     "output_type": "execute_result"
    }
   ],
   "source": [
    "env.observation_space.n"
   ]
  },
  {
   "cell_type": "code",
   "execution_count": 99,
   "id": "cloudy-cookie",
   "metadata": {},
   "outputs": [
    {
     "data": {
      "text/plain": [
       "4"
      ]
     },
     "execution_count": 99,
     "metadata": {},
     "output_type": "execute_result"
    }
   ],
   "source": [
    "env.action_space.n"
   ]
  },
  {
   "cell_type": "markdown",
   "id": "exposed-tension",
   "metadata": {},
   "source": [
    "env.P[s] nous permet de déterminer en fonction de l'état s et de l'action a:\n",
    "prob , s' , r , final ?"
   ]
  },
  {
   "cell_type": "code",
   "execution_count": 100,
   "id": "rotary-karma",
   "metadata": {},
   "outputs": [
    {
     "data": {
      "text/plain": [
       "{0: [(1.0, 0, 0.0, False)],\n",
       " 1: [(1.0, 8, 0.0, False)],\n",
       " 2: [(1.0, 1, 0.0, False)],\n",
       " 3: [(1.0, 0, 0.0, False)]}"
      ]
     },
     "execution_count": 100,
     "metadata": {},
     "output_type": "execute_result"
    }
   ],
   "source": [
    "env.P[0]"
   ]
  },
  {
   "cell_type": "markdown",
   "id": "opposed-seattle",
   "metadata": {},
   "source": [
    "-> Exemple pour l'état 0 et l'action 0 et le premier état s' dans la liste"
   ]
  },
  {
   "cell_type": "code",
   "execution_count": 101,
   "id": "intermediate-likelihood",
   "metadata": {},
   "outputs": [
    {
     "data": {
      "text/plain": [
       "(1.0, 0, 0.0, False)"
      ]
     },
     "execution_count": 101,
     "metadata": {},
     "output_type": "execute_result"
    }
   ],
   "source": [
    "env.P[0][0][0]"
   ]
  },
  {
   "cell_type": "markdown",
   "id": "limiting-genesis",
   "metadata": {},
   "source": [
    "![title](static/value_iteration.png)"
   ]
  },
  {
   "cell_type": "code",
   "execution_count": 111,
   "id": "mediterranean-storm",
   "metadata": {},
   "outputs": [],
   "source": [
    "# Recherche de v*\n",
    "def value_iteration(env,theta,max_iter,gamma):\n",
    "    fig = plt.figure()\n",
    "    ax = fig.add_subplot(111)\n",
    "    deltaT = []\n",
    "\n",
    "    fvalue=np.full(env.observation_space.n,0.0)\n",
    "    for k in range(max_iter):\n",
    "        save_fvalue=np.copy(fvalue)\n",
    "        for s in range(env.observation_space.n):  \n",
    "            max_Qa = -100\n",
    "            for a in range(env.action_space.n):\n",
    "                q=0\n",
    "                for p,s_,r,done in env.P[s][a]:\n",
    "                    q = q + p * (r + gamma * save_fvalue[s_])\n",
    "                    # print(\"s=\",s,\" a=\",a,\" s_=\",s_,\"q = \",q,\"[\",p,r,\"]\")\n",
    "                max_Qa=max(max_Qa,q)\n",
    "                # print(max_Qa,q)\n",
    "                # print(p,s,s_,a,r,max_Qa)\n",
    "\n",
    "            fvalue[s] = max_Qa\n",
    "        # print(fvalue.reshape(8,8))\n",
    "        delta=np.sum(np.fabs(save_fvalue - fvalue))\n",
    "        deltaT.append(delta)\n",
    "        \n",
    "        if int(k/100)==k/100:\n",
    "            ax.plot(deltaT)\n",
    "            fig.canvas.draw()\n",
    "\n",
    "        if (delta <= theta):\n",
    "            break\n",
    "    return(k,fvalue)\n"
   ]
  },
  {
   "cell_type": "markdown",
   "id": "bronze-medicaid",
   "metadata": {},
   "source": [
    "### Tests à faire :\n",
    "Slippery = True   \n",
    "Slipperry = False, Gamma= 1   \n",
    "Slippery = False, Gamma = 0.8 , 10 itérations en affichant la fv   \n",
    "Slippery = False, Gamma = 0.8 , 1000"
   ]
  },
  {
   "cell_type": "code",
   "execution_count": 112,
   "id": "technological-mystery",
   "metadata": {},
   "outputs": [
    {
     "name": "stdout",
     "output_type": "stream",
     "text": [
      "14  itérations\n"
     ]
    },
    {
     "data": {
      "image/png": "[encoded data removed]",
      "text/plain": [
       "<Figure size 432x288 with 1 Axes>"
      ]
     },
     "metadata": {
      "needs_background": "light"
     },
     "output_type": "display_data"
    }
   ],
   "source": [
    "plt.ion()\n",
    "k,fv=value_iteration(env=env,theta=1e-20,max_iter=1000,gamma=0.8)\n",
    "print(k,\" itérations\")"
   ]
  },
  {
   "cell_type": "code",
   "execution_count": 115,
   "id": "particular-classification",
   "metadata": {},
   "outputs": [
    {
     "data": {
      "text/plain": [
       "array([0.05497558, 0.06871948, 0.08589935, 0.10737418, 0.13421773,\n",
       "       0.16777216, 0.2097152 , 0.262144  , 0.06871948, 0.08589935,\n",
       "       0.10737418, 0.13421773, 0.16777216, 0.2097152 , 0.262144  ,\n",
       "       0.32768   , 0.08589935, 0.10737418, 0.13421773, 0.        ,\n",
       "       0.2097152 , 0.262144  , 0.32768   , 0.4096    , 0.10737418,\n",
       "       0.13421773, 0.16777216, 0.2097152 , 0.262144  , 0.        ,\n",
       "       0.4096    , 0.512     , 0.08589935, 0.10737418, 0.13421773,\n",
       "       0.        , 0.32768   , 0.4096    , 0.512     , 0.64      ,\n",
       "       0.06871948, 0.        , 0.        , 0.32768   , 0.4096    ,\n",
       "       0.512     , 0.        , 0.8       , 0.08589935, 0.        ,\n",
       "       0.2097152 , 0.262144  , 0.        , 0.64      , 0.        ,\n",
       "       1.        , 0.10737418, 0.13421773, 0.16777216, 0.        ,\n",
       "       0.64      , 0.8       , 1.        , 0.        ])"
      ]
     },
     "execution_count": 115,
     "metadata": {},
     "output_type": "execute_result"
    }
   ],
   "source": [
    "fv"
   ]
  },
  {
   "cell_type": "code",
   "execution_count": 116,
   "id": "hollywood-white",
   "metadata": {},
   "outputs": [],
   "source": [
    "# Détermination de la meilleur politique pi*\n",
    "def best_policy(env,fvalue,gamma):\n",
    "    policy=np.zeros(env.observation_space.n)\n",
    "    for s in range(env.observation_space.n):\n",
    "        Q = []\n",
    "        for a in range(env.action_space.n):\n",
    "            q=0\n",
    "            for p,s_,r,done in env.P[s][a]:\n",
    "                q = q + p * (r + gamma * fvalue[s_])\n",
    "            Q.append(q)\n",
    "        # print(Q,np.argmax(np.array(Q)))\n",
    "        policy[s]=np.argmax(Q)\n",
    "    return(policy)"
   ]
  },
  {
   "cell_type": "code",
   "execution_count": 117,
   "id": "national-gallery",
   "metadata": {},
   "outputs": [],
   "source": [
    "policy=best_policy(env,fv,0.8)"
   ]
  },
  {
   "cell_type": "code",
   "execution_count": 13,
   "id": "multiple-determination",
   "metadata": {},
   "outputs": [],
   "source": [
    "np.save(\"iteration_valeur_best_policy\",policy)"
   ]
  },
  {
   "cell_type": "markdown",
   "id": "nutritional-depth",
   "metadata": {},
   "source": [
    "# Testons l'environnement\n",
    "\n",
    "0: LEFT <br>\n",
    "1: DOWN<br>\n",
    "2: RIGHT<br>\n",
    "3: UP<br>"
   ]
  },
  {
   "cell_type": "code",
   "execution_count": 121,
   "id": "solid-trading",
   "metadata": {},
   "outputs": [
    {
     "name": "stdout",
     "output_type": "stream",
     "text": [
      "\n",
      "\u001b[41mS\u001b[0mFFFFFFF\n",
      "FFFFFFFF\n",
      "FFFHFFFF\n",
      "FFFFFHFF\n",
      "FFFHFFFF\n",
      "FHHFFFHF\n",
      "FHFFHFHF\n",
      "FFFHFFFG\n",
      "[[1. 1. 1. 1. 1. 1. 1. 1.]\n",
      " [1. 1. 1. 2. 1. 1. 1. 1.]\n",
      " [1. 1. 1. 0. 1. 2. 1. 1.]\n",
      " [2. 2. 2. 2. 1. 0. 1. 1.]\n",
      " [2. 2. 3. 0. 1. 1. 2. 1.]\n",
      " [1. 0. 0. 2. 2. 1. 0. 1.]\n",
      " [1. 0. 2. 3. 0. 1. 0. 1.]\n",
      " [2. 2. 3. 0. 2. 2. 2. 0.]]\n",
      "Start\n",
      "Done  (63, 1.0, True, {'prob': 1.0})\n"
     ]
    }
   ],
   "source": [
    "curpos=env.reset()\n",
    "env.render()\n",
    "print(policy.reshape(8,8))\n",
    "done=False\n",
    "print(\"Start\")\n",
    "while done == False:\n",
    "    back=env.step(int(policy[curpos]))\n",
    "    # print(\"Curpos \",curpos,\", Policy \",policy[curpos],back)\n",
    "    curpos=back[0]\n",
    "    done=back[2]\n",
    "    # env.render()\n",
    "    # time.sleep(1)\n",
    "print(\"Done \",back)"
   ]
  },
  {
   "cell_type": "code",
   "execution_count": null,
   "id": "religious-alliance",
   "metadata": {},
   "outputs": [],
   "source": []
  },
  {
   "cell_type": "code",
   "execution_count": null,
   "id": "southern-victim",
   "metadata": {},
   "outputs": [],
   "source": []
  }
 ],
 "metadata": {
  "kernelspec": {
   "display_name": "RL pour cours",
   "language": "python",
   "name": "rl"
  },
  "language_info": {
   "codemirror_mode": {
    "name": "ipython",
    "version": 3
   },
   "file_extension": ".py",
   "mimetype": "text/x-python",
   "name": "python",
   "nbconvert_exporter": "python",
   "pygments_lexer": "ipython3",
   "version": "3.9.2"
  }
 },
 "nbformat": 4,
 "nbformat_minor": 5
}
