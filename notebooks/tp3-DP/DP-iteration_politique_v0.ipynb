{
 "cells": [
  {
   "cell_type": "markdown",
   "id": "prescription-validity",
   "metadata": {},
   "source": [
    "# Cours Programmation Dynamique\n",
    "## Itération sur Politique\n",
    "### Source     :\n",
    "### Adaptation : Fabrice Mulotti\n",
    "v1.0"
   ]
  },
  {
   "cell_type": "code",
   "execution_count": null,
   "id": "5a95e167-7e49-4413-900d-20cde3556719",
   "metadata": {},
   "outputs": [],
   "source": [
    "import gym\n",
    "import numpy as np\n",
    "import sys\n",
    "%matplotlib inline\n",
    "import matplotlib.pyplot as plt\n",
    "\n",
    "if \"../\" not in sys.path:\n",
    "  sys.path.append(\"../\") \n",
    "\n",
    "from lib.envs.windy_gridworld import WindyGridworldEnv\n",
    "\n",
    "# Disable jedi autocompleter\n",
    "%config Completer.use_jedi = False\n",
    "# %matplotlib inline\n",
    "# %matplotlib widget\n",
    "# plt.ion()"
   ]
  },
  {
   "cell_type": "markdown",
   "id": "4a848409-264f-4dad-ae27-82897e01c53e",
   "metadata": {},
   "source": [
    "### Déclaration env"
   ]
  },
  {
   "cell_type": "code",
   "execution_count": null,
   "id": "adjustable-adolescent",
   "metadata": {},
   "outputs": [],
   "source": [
    "env = gym.make('FrozenLake8x8-v1',is_slippery = True)\n",
    "# env = gym.make('FrozenLake-v1',is_slippery=False)\n"
   ]
  },
  {
   "cell_type": "code",
   "execution_count": null,
   "id": "living-dinner",
   "metadata": {},
   "outputs": [],
   "source": [
    "env.render()"
   ]
  },
  {
   "cell_type": "markdown",
   "id": "275b54f9-76ad-46c0-ba8d-338732c092c3",
   "metadata": {},
   "source": [
    "### Quelques caractéristiques de notre env"
   ]
  },
  {
   "cell_type": "code",
   "execution_count": null,
   "id": "opening-canada",
   "metadata": {},
   "outputs": [],
   "source": [
    "env.observation_space.n"
   ]
  },
  {
   "cell_type": "code",
   "execution_count": null,
   "id": "a4cb5177-5b76-4da0-92fd-100b3033b3e3",
   "metadata": {},
   "outputs": [],
   "source": [
    "env.action_space.n"
   ]
  },
  {
   "cell_type": "markdown",
   "id": "increased-effort",
   "metadata": {},
   "source": [
    "env.P[s] nous permet de déterminer en fonction de l'état s et de l'action a:\n",
    "prob , s' , r , final ?"
   ]
  },
  {
   "cell_type": "code",
   "execution_count": null,
   "id": "24618377-04aa-425c-ae7c-1f1a826aadea",
   "metadata": {},
   "outputs": [],
   "source": [
    "env.P[0]"
   ]
  },
  {
   "cell_type": "code",
   "execution_count": null,
   "id": "loving-billy",
   "metadata": {},
   "outputs": [],
   "source": [
    "env.P[0][0][0]"
   ]
  },
  {
   "cell_type": "markdown",
   "id": "incredible-strand",
   "metadata": {},
   "source": [
    "![title](static/policy_iteration.png)"
   ]
  },
  {
   "cell_type": "code",
   "execution_count": null,
   "id": "decimal-thermal",
   "metadata": {},
   "outputs": [],
   "source": [
    "# Recherche de v*\n",
    "def policy_iteration(env,theta,max_iter,gamma):\n",
    "    deltaT = []\n",
    "\n",
    "    # Initialisation\n",
    "    fvalue=np.full(env.observation_space.n,0.0)\n",
    "    # policy=np.full(env.observation_space.n,0.0)\n",
    "    policy=np.random.randint(0,env.action_space.n,env.observation_space.n)\n",
    "    # Boucle principale\n",
    "    for i in range(max_iter):\n",
    "        save_policy=np.copy(policy)\n",
    "        # évluation fonction de valeur basé sur la politique\n",
    "        for k in range(max_iter):\n",
    "            save_fvalue=np.copy(fvalue)\n",
    "            delta=0\n",
    "            for s in range(env.observation_space.n):  \n",
    "                # votre code : voir 2 du code\n",
    "            \n",
    "            if (delta < gamma):\n",
    "                break\n",
    "        deltaT.append(delta)\n",
    "        \n",
    "        # Mise à jour de la politique\n",
    "        for s in range(env.observation_space.n):\n",
    "            Q = []\n",
    "            for a in range(env.action_space.n):\n",
    "                 # votre code : évaluer l'action qui rapporte le plus (calcul de Q)\n",
    "            policy[s]=np.argmax(Q)\n",
    "        if np.array_equal(policy,save_policy):\n",
    "            break\n",
    "        \n",
    "    return(i,fvalue,policy,deltaT)\n"
   ]
  },
  {
   "cell_type": "code",
   "execution_count": null,
   "id": "5563798d-9c20-4d44-9309-bd1ee80753d8",
   "metadata": {},
   "outputs": [],
   "source": [
    "plt.ion()\n",
    "k,fv,policy,deltaT=policy_iteration(env=env,theta=1e-20,max_iter=10000,gamma=0.8)\n",
    "print(k,\" itérations\")\n",
    "plt.figure()\n",
    "plt.plot(deltaT)\n",
    "plt.show()"
   ]
  },
  {
   "cell_type": "code",
   "execution_count": null,
   "id": "433b1067-ec8b-4a58-8331-39b51bf381db",
   "metadata": {},
   "outputs": [],
   "source": [
    "fv"
   ]
  },
  {
   "cell_type": "code",
   "execution_count": null,
   "id": "15c5aacb-a2ab-4158-989f-dd45286cb219",
   "metadata": {},
   "outputs": [],
   "source": [
    "np.save(\"iteration_valeur_best_policy\",policy)"
   ]
  },
  {
   "cell_type": "code",
   "execution_count": null,
   "id": "79d39bce-dff9-43fd-b158-e909a9f5e405",
   "metadata": {},
   "outputs": [],
   "source": [
    "s=int(np.sqrt(env.observation_space.n))\n",
    "policy.reshape(s,s)\n"
   ]
  },
  {
   "cell_type": "markdown",
   "id": "94ed76a3-593e-4e99-b7c7-60214818152b",
   "metadata": {},
   "source": [
    "# Testons l'environnement\n",
    "\n",
    "0: LEFT <br>\n",
    "1: DOWN<br>\n",
    "2: RIGHT<br>\n",
    "3: UP<br>"
   ]
  },
  {
   "cell_type": "code",
   "execution_count": null,
   "id": "b0c13d54-1764-4d9c-acd9-1a00ece73140",
   "metadata": {},
   "outputs": [],
   "source": [
    "curpos=env.reset()\n",
    "env.render()\n",
    "print(policy)\n",
    "done=False\n",
    "print(\"Start\")\n",
    "i=0\n",
    "while done == False:\n",
    "    back=env.step(int(policy[curpos]))\n",
    "    # print(\"Curpos \",curpos,\", Policy \",policy[curpos],back)\n",
    "    curpos=back[0]\n",
    "    done=back[2]\n",
    "    i+=1\n",
    "    # env.render()\n",
    "    # time.sleep(1)\n",
    "print(\"Done in \",i,\" moves. Data=\",back)"
   ]
  },
  {
   "cell_type": "code",
   "execution_count": null,
   "id": "f61e3560-c177-43c5-9347-6aa07147e0dd",
   "metadata": {},
   "outputs": [],
   "source": []
  }
 ],
 "metadata": {
  "kernelspec": {
   "display_name": "laboRL",
   "language": "python",
   "name": "rl"
  },
  "language_info": {
   "codemirror_mode": {
    "name": "ipython",
    "version": 3
   },
   "file_extension": ".py",
   "mimetype": "text/x-python",
   "name": "python",
   "nbconvert_exporter": "python",
   "pygments_lexer": "ipython3",
   "version": "3.9.2"
  }
 },
 "nbformat": 4,
 "nbformat_minor": 5
}
