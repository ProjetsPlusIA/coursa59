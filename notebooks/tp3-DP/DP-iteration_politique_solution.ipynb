{
 "cells": [
  {
   "cell_type": "markdown",
   "id": "radical-intervention",
   "metadata": {},
   "source": [
    "# Cours Programmation Dynamique\n",
    "## Itération sur Politique\n",
    "\n",
    "### Adaptation : Fabrice Mulotti\n",
    "v1.0"
   ]
  },
  {
   "cell_type": "code",
   "execution_count": 115,
   "id": "every-civilization",
   "metadata": {},
   "outputs": [],
   "source": [
    "import gym\n",
    "import numpy as np\n",
    "import sys\n",
    "%matplotlib inline\n",
    "import matplotlib.pyplot as plt\n",
    "\n",
    "if \"../\" not in sys.path:\n",
    "  sys.path.append(\"../\") \n",
    "\n",
    "from lib.envs.windy_gridworld import WindyGridworldEnv\n",
    "\n",
    "# Disable jedi autocompleter\n",
    "%config Completer.use_jedi = False\n",
    "# %matplotlib inline\n",
    "# %matplotlib widget\n"
   ]
  },
  {
   "cell_type": "markdown",
   "id": "single-peninsula",
   "metadata": {},
   "source": [
    "### Déclaration env"
   ]
  },
  {
   "cell_type": "code",
   "execution_count": 103,
   "id": "decreased-quebec",
   "metadata": {},
   "outputs": [],
   "source": [
    "env = gym.make('FrozenLake8x8-v1',is_slippery = True)\n",
    "# env = gym.make('FrozenLake-v1',is_slippery=False)\n"
   ]
  },
  {
   "cell_type": "code",
   "execution_count": 104,
   "id": "organized-destiny",
   "metadata": {},
   "outputs": [
    {
     "name": "stdout",
     "output_type": "stream",
     "text": [
      "\n",
      "\u001b[41mS\u001b[0mFFFFFFF\n",
      "FFFFFFFF\n",
      "FFFHFFFF\n",
      "FFFFFHFF\n",
      "FFFHFFFF\n",
      "FHHFFFHF\n",
      "FHFFHFHF\n",
      "FFFHFFFG\n"
     ]
    }
   ],
   "source": [
    "env.render()"
   ]
  },
  {
   "cell_type": "markdown",
   "id": "radical-adoption",
   "metadata": {},
   "source": [
    "### Quelques caractéristiques de notre env"
   ]
  },
  {
   "cell_type": "code",
   "execution_count": 105,
   "id": "proprietary-equipment",
   "metadata": {},
   "outputs": [
    {
     "data": {
      "text/plain": [
       "64"
      ]
     },
     "execution_count": 105,
     "metadata": {},
     "output_type": "execute_result"
    }
   ],
   "source": [
    "env.observation_space.n"
   ]
  },
  {
   "cell_type": "code",
   "execution_count": 106,
   "id": "instrumental-pharmacology",
   "metadata": {},
   "outputs": [
    {
     "data": {
      "text/plain": [
       "4"
      ]
     },
     "execution_count": 106,
     "metadata": {},
     "output_type": "execute_result"
    }
   ],
   "source": [
    "env.action_space.n"
   ]
  },
  {
   "cell_type": "markdown",
   "id": "afraid-tumor",
   "metadata": {},
   "source": [
    "env.P[s] nous permet de déterminer en fonction de l'état s et de l'action a:\n",
    "prob , s' , r , final ?"
   ]
  },
  {
   "cell_type": "code",
   "execution_count": 107,
   "id": "infectious-saturday",
   "metadata": {},
   "outputs": [
    {
     "data": {
      "text/plain": [
       "{0: [(0.3333333333333333, 0, 0.0, False),\n",
       "  (0.3333333333333333, 0, 0.0, False),\n",
       "  (0.3333333333333333, 8, 0.0, False)],\n",
       " 1: [(0.3333333333333333, 0, 0.0, False),\n",
       "  (0.3333333333333333, 8, 0.0, False),\n",
       "  (0.3333333333333333, 1, 0.0, False)],\n",
       " 2: [(0.3333333333333333, 8, 0.0, False),\n",
       "  (0.3333333333333333, 1, 0.0, False),\n",
       "  (0.3333333333333333, 0, 0.0, False)],\n",
       " 3: [(0.3333333333333333, 1, 0.0, False),\n",
       "  (0.3333333333333333, 0, 0.0, False),\n",
       "  (0.3333333333333333, 0, 0.0, False)]}"
      ]
     },
     "execution_count": 107,
     "metadata": {},
     "output_type": "execute_result"
    }
   ],
   "source": [
    "env.P[0]"
   ]
  },
  {
   "cell_type": "code",
   "execution_count": 108,
   "id": "executed-sessions",
   "metadata": {},
   "outputs": [
    {
     "data": {
      "text/plain": [
       "(0.3333333333333333, 0, 0.0, False)"
      ]
     },
     "execution_count": 108,
     "metadata": {},
     "output_type": "execute_result"
    }
   ],
   "source": [
    "env.P[0][0][0]"
   ]
  },
  {
   "cell_type": "markdown",
   "id": "arabic-boston",
   "metadata": {},
   "source": [
    "![title](static/policy_iteration.png)"
   ]
  },
  {
   "cell_type": "code",
   "execution_count": 109,
   "id": "brown-vessel",
   "metadata": {},
   "outputs": [],
   "source": [
    "# Recherche de v*\n",
    "def policy_iteration(env,theta,max_iter,gamma):\n",
    "    deltaT = []\n",
    "\n",
    "    # Initialisation\n",
    "    fvalue=np.full(env.observation_space.n,0.0)\n",
    "    # policy=np.full(env.observation_space.n,0.0)\n",
    "    policy=np.random.randint(0,env.action_space.n,env.observation_space.n)\n",
    "    # Boucle principale\n",
    "    for i in range(max_iter):\n",
    "        save_policy=np.copy(policy)\n",
    "        # évluation fonction de valeur basé sur la politique\n",
    "        for k in range(max_iter):\n",
    "            save_fvalue=np.copy(fvalue)\n",
    "            delta=0\n",
    "            for s in range(env.observation_space.n):  \n",
    "                a=policy[s] # nous ne testons plus l'ensemble des actions possibles mais selon la politique actuelle\n",
    "                q=0\n",
    "                for p,s_,r,done in env.P[s][a]:\n",
    "                    q = q + p * (r + gamma * save_fvalue[s_])\n",
    "                    # print(\"s=\",s,\" a=\",a,\" s_=\",s_,\"q = \",q,\"[\",p,r,\"]\")\n",
    "                fvalue[s] = q\n",
    "                delta=max(delta,abs(fvalue[s] - save_fvalue[s]))\n",
    "            \n",
    "            if (delta < gamma):\n",
    "                break\n",
    "        deltaT.append(delta)\n",
    "        \n",
    "        # Mise à jour de la politique\n",
    "        for s in range(env.observation_space.n):\n",
    "            Q = []\n",
    "            for a in range(env.action_space.n):\n",
    "                q=0\n",
    "                for p,s_,r,done in env.P[s][a]:\n",
    "                    q = q + p * (r + gamma * fvalue[s_])\n",
    "                Q.append(q)\n",
    "            # print(Q,np.argmax(np.array(Q)))\n",
    "            policy[s]=np.argmax(Q)\n",
    "        if np.array_equal(policy,save_policy):\n",
    "            break\n",
    "        \n",
    "    return(i,fvalue,policy,deltaT)\n"
   ]
  },
  {
   "cell_type": "code",
   "execution_count": 110,
   "id": "surface-poison",
   "metadata": {},
   "outputs": [
    {
     "name": "stdout",
     "output_type": "stream",
     "text": [
      "14  itérations\n"
     ]
    },
    {
     "data": {
      "image/png": "[encoded data removed]",
      "text/plain": [
       "<Figure size 432x288 with 1 Axes>"
      ]
     },
     "metadata": {
      "needs_background": "light"
     },
     "output_type": "display_data"
    }
   ],
   "source": [
    "plt.ion()\n",
    "k,fv,policy,deltaT=policy_iteration(env=env,theta=1e-20,max_iter=10000,gamma=0.8)\n",
    "print(k,\" itérations\")\n",
    "plt.figure()\n",
    "plt.plot(deltaT)\n",
    "plt.show()"
   ]
  },
  {
   "cell_type": "code",
   "execution_count": 111,
   "id": "handed-cotton",
   "metadata": {},
   "outputs": [
    {
     "data": {
      "text/plain": [
       "array([1.66510158e-06, 1.04863852e-05, 5.40683884e-05, 2.15494426e-04,\n",
       "       6.80591361e-04, 1.52223816e-03, 2.79987254e-03, 3.66099681e-03,\n",
       "       4.17290700e-06, 1.70158554e-05, 7.04982399e-05, 2.85219067e-04,\n",
       "       1.12974774e-03, 2.63317830e-03, 5.69492919e-03, 8.23245480e-03,\n",
       "       7.88466400e-06, 2.29671520e-05, 5.50876004e-05, 0.00000000e+00,\n",
       "       1.81496108e-03, 4.08066064e-03, 1.23692383e-02, 1.92566887e-02,\n",
       "       1.35360742e-05, 4.71131393e-05, 1.74304826e-04, 6.48713256e-04,\n",
       "       2.49582693e-03, 0.00000000e+00, 2.39433158e-02, 4.34208309e-02,\n",
       "       7.52068644e-06, 2.01823405e-05, 4.29514390e-05, 0.00000000e+00,\n",
       "       7.58109852e-03, 1.79504819e-02, 3.67659428e-02, 9.85239882e-02,\n",
       "       1.75054052e-06, 0.00000000e+00, 0.00000000e+00, 2.50212500e-03,\n",
       "       9.02015933e-03, 2.45608752e-02, 0.00000000e+00, 2.30526062e-01,\n",
       "       1.80432300e-06, 0.00000000e+00, 1.86371969e-04, 6.84348743e-04,\n",
       "       0.00000000e+00, 6.61914255e-02, 0.00000000e+00, 5.37869869e-01,\n",
       "       7.03119648e-06, 2.06661163e-05, 6.48884514e-05, 0.00000000e+00,\n",
       "       8.13996062e-02, 2.24271600e-01, 5.35945060e-01, 0.00000000e+00])"
      ]
     },
     "execution_count": 111,
     "metadata": {},
     "output_type": "execute_result"
    }
   ],
   "source": [
    "fv"
   ]
  },
  {
   "cell_type": "code",
   "execution_count": 112,
   "id": "mature-logistics",
   "metadata": {},
   "outputs": [],
   "source": [
    "np.save(\"iteration_valeur_best_policy\",policy)"
   ]
  },
  {
   "cell_type": "code",
   "execution_count": 113,
   "id": "fixed-letter",
   "metadata": {},
   "outputs": [
    {
     "data": {
      "text/plain": [
       "array([[1, 2, 2, 2, 2, 2, 2, 2],\n",
       "       [1, 2, 2, 3, 2, 2, 2, 1],\n",
       "       [1, 2, 0, 0, 2, 3, 2, 1],\n",
       "       [3, 2, 3, 1, 0, 0, 2, 1],\n",
       "       [3, 3, 0, 0, 2, 1, 3, 2],\n",
       "       [0, 0, 0, 1, 3, 0, 0, 2],\n",
       "       [0, 0, 1, 0, 0, 0, 0, 2],\n",
       "       [1, 1, 0, 0, 1, 1, 1, 0]])"
      ]
     },
     "execution_count": 113,
     "metadata": {},
     "output_type": "execute_result"
    }
   ],
   "source": [
    "s=int(np.sqrt(env.observation_space.n))\n",
    "policy.reshape(s,s)\n"
   ]
  },
  {
   "cell_type": "markdown",
   "id": "behind-niagara",
   "metadata": {},
   "source": [
    "# Testons l'environnement\n",
    "\n",
    "0: LEFT <br>\n",
    "1: DOWN<br>\n",
    "2: RIGHT<br>\n",
    "3: UP<br>"
   ]
  },
  {
   "cell_type": "code",
   "execution_count": 114,
   "id": "handmade-recorder",
   "metadata": {},
   "outputs": [
    {
     "name": "stdout",
     "output_type": "stream",
     "text": [
      "\n",
      "\u001b[41mS\u001b[0mFFFFFFF\n",
      "FFFFFFFF\n",
      "FFFHFFFF\n",
      "FFFFFHFF\n",
      "FFFHFFFF\n",
      "FHHFFFHF\n",
      "FHFFHFHF\n",
      "FFFHFFFG\n",
      "[1 2 2 2 2 2 2 2 1 2 2 3 2 2 2 1 1 2 0 0 2 3 2 1 3 2 3 1 0 0 2 1 3 3 0 0 2\n",
      " 1 3 2 0 0 0 1 3 0 0 2 0 0 1 0 0 0 0 2 1 1 0 0 1 1 1 0]\n",
      "Start\n",
      "Done in  37  moves. Data= (63, 1.0, True, {'prob': 0.3333333333333333})\n"
     ]
    }
   ],
   "source": [
    "curpos=env.reset()\n",
    "env.render()\n",
    "print(policy)\n",
    "done=False\n",
    "print(\"Start\")\n",
    "i=0\n",
    "while done == False:\n",
    "    back=env.step(int(policy[curpos]))\n",
    "    # print(\"Curpos \",curpos,\", Policy \",policy[curpos],back)\n",
    "    curpos=back[0]\n",
    "    done=back[2]\n",
    "    i+=1\n",
    "    # env.render()\n",
    "    # time.sleep(1)\n",
    "print(\"Done in \",i,\" moves. Data=\",back)"
   ]
  },
  {
   "cell_type": "code",
   "execution_count": null,
   "id": "tired-sailing",
   "metadata": {},
   "outputs": [],
   "source": []
  }
 ],
 "metadata": {
  "kernelspec": {
   "display_name": "RL pour cours",
   "language": "python",
   "name": "rl"
  },
  "language_info": {
   "codemirror_mode": {
    "name": "ipython",
    "version": 3
   },
   "file_extension": ".py",
   "mimetype": "text/x-python",
   "name": "python",
   "nbconvert_exporter": "python",
   "pygments_lexer": "ipython3",
   "version": "3.9.2"
  }
 },
 "nbformat": 4,
 "nbformat_minor": 5
}
