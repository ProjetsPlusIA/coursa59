{
 "cells": [
  {
   "cell_type": "markdown",
   "id": "c0697076-ac4e-49f0-869c-ea3fa02b275f",
   "metadata": {},
   "source": [
    "***\n",
    "# Introduction gym\n",
    "\n",
    "## Fabrice Mulotti\n",
    "v1.0 2022\n",
    "***"
   ]
  },
  {
   "cell_type": "code",
   "execution_count": null,
   "id": "aware-turtle",
   "metadata": {},
   "outputs": [],
   "source": [
    "import gym\n",
    "import numpy as np"
   ]
  },
  {
   "cell_type": "markdown",
   "id": "c941b67a-43ce-4d78-8170-3888514f53f4",
   "metadata": {},
   "source": [
    "***\n",
    "# Lister les environnements disponibles"
   ]
  },
  {
   "cell_type": "code",
   "execution_count": null,
   "id": "c194f7c5-3eba-4de2-beaf-324267d75238",
   "metadata": {},
   "outputs": [],
   "source": [
    "from gym import envs\n",
    "print(envs.registry.all())"
   ]
  },
  {
   "cell_type": "markdown",
   "id": "affected-gambling",
   "metadata": {},
   "source": [
    "***\n",
    "## Installation de l'environnement"
   ]
  },
  {
   "cell_type": "code",
   "execution_count": null,
   "id": "starting-playlist",
   "metadata": {},
   "outputs": [],
   "source": [
    "!pip install gym"
   ]
  },
  {
   "cell_type": "markdown",
   "id": "constant-spider",
   "metadata": {},
   "source": [
    "Cette commande installe le coeur de gym et plusieurs environnements.<br>\n",
    "Vous pouvez toutefois être amené à installer des env complémentaires.<br>\n",
    "<br>\n",
    "La commande dans ce cas est `!pip install gym[nom environnement]`\n"
   ]
  },
  {
   "cell_type": "markdown",
   "id": "01164af2-2468-4b57-af02-9d5a764e9a0c",
   "metadata": {},
   "source": [
    "***\n",
    "## Construction de l environnement et caractéristiques"
   ]
  },
  {
   "cell_type": "code",
   "execution_count": null,
   "id": "a3548bb0-3610-4d29-8246-baaa9fd266fc",
   "metadata": {},
   "outputs": [],
   "source": [
    "env = gym.make(\"CarRacing-v0\")"
   ]
  },
  {
   "cell_type": "code",
   "execution_count": null,
   "id": "b9484596-65eb-4ef4-8833-fdf75d424372",
   "metadata": {},
   "outputs": [],
   "source": [
    "# Option si pip n'arrive pas à installer l'extension\n",
    "# Commande linux/debian\n",
    "!sudo apt install swig"
   ]
  },
  {
   "cell_type": "code",
   "execution_count": null,
   "id": "6b4d236d-19d9-4834-bfc0-30cedb5172b0",
   "metadata": {},
   "outputs": [],
   "source": [
    "# Option si pip n'arrive pas à installer l'extension\n",
    "!pip install wheel"
   ]
  },
  {
   "cell_type": "code",
   "execution_count": null,
   "id": "4106755d-c2b7-4d15-bcc1-d08fd26ca38a",
   "metadata": {},
   "outputs": [],
   "source": [
    "!pip install gym[box2d]"
   ]
  },
  {
   "cell_type": "code",
   "execution_count": null,
   "id": "3eb77bbe-9ff9-4fc1-8843-65abfa3ee4b2",
   "metadata": {},
   "outputs": [],
   "source": [
    "env = gym.make(\"CarRacing-v0\")"
   ]
  },
  {
   "cell_type": "code",
   "execution_count": null,
   "id": "aa140028-517c-4fa3-b9f2-afe488115237",
   "metadata": {},
   "outputs": [],
   "source": [
    "state=env.reset()"
   ]
  },
  {
   "cell_type": "code",
   "execution_count": null,
   "id": "cac4e8e4-e9cc-4592-995b-20dcb7a8412e",
   "metadata": {},
   "outputs": [],
   "source": [
    "state.shape"
   ]
  },
  {
   "cell_type": "code",
   "execution_count": null,
   "id": "ef1e1e80-9cbf-41d4-a077-72b3ec27d95e",
   "metadata": {},
   "outputs": [],
   "source": [
    "env.render()"
   ]
  },
  {
   "cell_type": "code",
   "execution_count": null,
   "id": "babc8bb2-99e0-4789-bc2b-5f61f6d2d41f",
   "metadata": {},
   "outputs": [],
   "source": [
    "env.observation_space.sample().shape"
   ]
  },
  {
   "cell_type": "code",
   "execution_count": null,
   "id": "97445520-1a33-49b7-ae00-bdac0d8bd4ed",
   "metadata": {},
   "outputs": [],
   "source": [
    "done=False\n",
    "while not(done) :\n",
    "   obs,reward,done,info = env.step(env.action_space.sample())\n",
    "   env.render()\n",
    "    "
   ]
  },
  {
   "cell_type": "markdown",
   "id": "3779f9f1-e95a-443c-9e79-b8228346f22d",
   "metadata": {
    "tags": []
   },
   "source": [
    "***\n",
    "# Environnement CarPole-V1"
   ]
  },
  {
   "cell_type": "markdown",
   "id": "dbbae59f-6822-4961-8cab-7441d7af723f",
   "metadata": {},
   "source": [
    "https://github.com/openai/gym/blob/master/gym/envs/classic_control/cartpole.py"
   ]
  },
  {
   "cell_type": "code",
   "execution_count": null,
   "id": "76c31e90-69ea-4ea1-8f76-13ed63273e1b",
   "metadata": {},
   "outputs": [],
   "source": [
    "env = gym.make(\"CartPole-v1\")"
   ]
  },
  {
   "cell_type": "markdown",
   "id": "68167647-1261-4e44-8af4-fb6e06ec673c",
   "metadata": {
    "tags": []
   },
   "source": [
    "***\n",
    "## États"
   ]
  },
  {
   "cell_type": "markdown",
   "id": "bedb5bf6-d25c-4025-9ab5-a5e412c1f871",
   "metadata": {},
   "source": [
    "### Type"
   ]
  },
  {
   "cell_type": "code",
   "execution_count": null,
   "id": "36171970-ef95-47a0-b262-ffd39ffabe04",
   "metadata": {},
   "outputs": [],
   "source": [
    "env.observation_space.dtype"
   ]
  },
  {
   "cell_type": "markdown",
   "id": "d3aeb853-04df-4601-bb75-f6a9081c03ed",
   "metadata": {},
   "source": [
    "### Limites"
   ]
  },
  {
   "cell_type": "code",
   "execution_count": null,
   "id": "5e21c672-b4af-4e4e-8010-6ee6ec996ba9",
   "metadata": {},
   "outputs": [],
   "source": [
    "env.observation_space.low"
   ]
  },
  {
   "cell_type": "code",
   "execution_count": null,
   "id": "4b23cacb-41ca-4ce6-aab9-94ec9f2d7730",
   "metadata": {},
   "outputs": [],
   "source": [
    "env.observation_space.high"
   ]
  },
  {
   "cell_type": "code",
   "execution_count": null,
   "id": "5020f228-3acb-458e-8201-8413ca0603b2",
   "metadata": {},
   "outputs": [],
   "source": [
    "env.observation_space.is_bounded()"
   ]
  },
  {
   "cell_type": "code",
   "execution_count": null,
   "id": "ec4edb58-ca98-47dd-9f01-f4d685ecabd9",
   "metadata": {},
   "outputs": [],
   "source": [
    "env.observation_space.bounded_above"
   ]
  },
  {
   "cell_type": "markdown",
   "id": "5fb92fa8-71b1-488b-998e-7df22648238e",
   "metadata": {},
   "source": [
    "### Nombre de caractéristique"
   ]
  },
  {
   "cell_type": "code",
   "execution_count": null,
   "id": "f206794d-100a-48ef-8f5a-67c4a560fc9c",
   "metadata": {},
   "outputs": [],
   "source": [
    "env.observation_space.shape"
   ]
  },
  {
   "cell_type": "markdown",
   "id": "1f4ad7e7-1213-4093-af6e-beb9ffba3aa9",
   "metadata": {},
   "source": [
    "***\n",
    "## Actions"
   ]
  },
  {
   "cell_type": "code",
   "execution_count": null,
   "id": "610b709e-88f2-4197-8126-edba307974e9",
   "metadata": {},
   "outputs": [],
   "source": [
    "env.action_space.n"
   ]
  },
  {
   "cell_type": "code",
   "execution_count": null,
   "id": "8bd129a7-961c-4941-99fb-cafcb06feb52",
   "metadata": {},
   "outputs": [],
   "source": [
    "env.action_space.dtype"
   ]
  },
  {
   "cell_type": "markdown",
   "id": "f8566c6a-fe01-4c87-8b81-67ea1ed52724",
   "metadata": {},
   "source": [
    "***\n",
    "## Récompense"
   ]
  },
  {
   "cell_type": "code",
   "execution_count": null,
   "id": "cc7e1ac8-f46f-479c-9a62-309a27e63d27",
   "metadata": {},
   "outputs": [],
   "source": [
    "env.reward_range"
   ]
  },
  {
   "cell_type": "markdown",
   "id": "a9bb1470-cda1-4c81-91cf-7ae964ad7ab9",
   "metadata": {},
   "source": [
    "***\n",
    "## Code"
   ]
  },
  {
   "cell_type": "markdown",
   "id": "c3afcda2-d6d6-4148-a450-774275f1d92c",
   "metadata": {},
   "source": [
    "https://github.com/openai/gym/blob/master/gym/envs/classic_control/cartpole.py"
   ]
  },
  {
   "cell_type": "markdown",
   "id": "890f8ec5-e6de-4966-bdae-da5899d397f7",
   "metadata": {},
   "source": [
    "***\n",
    "## Cycle"
   ]
  },
  {
   "cell_type": "markdown",
   "id": "b68bab9a-2c0b-455e-abf3-c01b46e3ee71",
   "metadata": {},
   "source": [
    "### Initialisation"
   ]
  },
  {
   "cell_type": "code",
   "execution_count": null,
   "id": "28f3a00c-5ae4-4cb1-970d-b3530224c192",
   "metadata": {},
   "outputs": [],
   "source": [
    "\n"
   ]
  },
  {
   "cell_type": "code",
   "execution_count": null,
   "id": "c056cce5-8df1-4fc6-8c42-87c46fd2701d",
   "metadata": {},
   "outputs": [],
   "source": [
    "# Seed fixe pour comparaison\n",
    "env.seed(1)"
   ]
  },
  {
   "cell_type": "code",
   "execution_count": null,
   "id": "46525a75-3d20-42f2-8b24-2ca3814de308",
   "metadata": {},
   "outputs": [],
   "source": [
    "env.reset()"
   ]
  },
  {
   "cell_type": "code",
   "execution_count": null,
   "id": "12641f2b-488c-4dca-b958-22dd006b08d5",
   "metadata": {},
   "outputs": [],
   "source": [
    "state=env.reset()"
   ]
  },
  {
   "cell_type": "code",
   "execution_count": null,
   "id": "91b45b96-4474-4dc5-bb59-ee91a9f95c7c",
   "metadata": {},
   "outputs": [],
   "source": []
  },
  {
   "cell_type": "markdown",
   "id": "ce004029-3683-4a99-b674-73c06578fe0d",
   "metadata": {},
   "source": [
    "## Avancons d'un pas"
   ]
  },
  {
   "cell_type": "code",
   "execution_count": null,
   "id": "b3e79021-df55-4939-90e0-d715f6c28740",
   "metadata": {},
   "outputs": [],
   "source": [
    "state, reward , done, info =env.step(env.action_space.sample())\n",
    "print(\"State \",state)\n",
    "print(\"Reward \",reward)\n",
    "print(\"Done?\",done)\n",
    "print(\"Debug info \",info)"
   ]
  },
  {
   "cell_type": "code",
   "execution_count": null,
   "id": "c20ae696-4240-4e37-aee7-ab1399d4f642",
   "metadata": {},
   "outputs": [],
   "source": [
    "env.render()"
   ]
  },
  {
   "cell_type": "code",
   "execution_count": null,
   "id": "4493afc7-c43f-486d-bcd7-1fd515a2fd36",
   "metadata": {},
   "outputs": [],
   "source": [
    "for i_episode in range(20):\n",
    "    observation = env.reset()\n",
    "    for t in range(100):\n",
    "        env.render()\n",
    "        if i_episode <4 and t<5 :\n",
    "            print(observation)\n",
    "        action = env.action_space.sample()\n",
    "        observation, reward, done, info = env.step(action)\n",
    "        if done:\n",
    "            print(\"Episode finished after {} timesteps\".format(t+1))\n",
    "            break\n",
    "env.close()"
   ]
  },
  {
   "cell_type": "code",
   "execution_count": null,
   "id": "92800bbf-e26f-46bd-b755-68de4cb3836d",
   "metadata": {},
   "outputs": [],
   "source": []
  }
 ],
 "metadata": {
  "kernelspec": {
   "display_name": "laboRL",
   "language": "python",
   "name": "rl"
  },
  "language_info": {
   "codemirror_mode": {
    "name": "ipython",
    "version": 3
   },
   "file_extension": ".py",
   "mimetype": "text/x-python",
   "name": "python",
   "nbconvert_exporter": "python",
   "pygments_lexer": "ipython3",
   "version": "3.9.2"
  }
 },
 "nbformat": 4,
 "nbformat_minor": 5
}
